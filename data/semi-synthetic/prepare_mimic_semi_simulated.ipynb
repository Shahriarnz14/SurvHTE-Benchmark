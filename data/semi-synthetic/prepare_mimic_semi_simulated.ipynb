{
 "cells": [
  {
   "cell_type": "markdown",
   "id": "5aa2c988",
   "metadata": {},
   "source": [
    "We replicate the Semi-synthetic MIMIC data generation process as in Meir et al 2025 paper."
   ]
  },
  {
   "cell_type": "code",
   "execution_count": 1,
   "id": "847e969c",
   "metadata": {},
   "outputs": [],
   "source": [
    "import pandas as pd\n",
    "import numpy as np\n",
    "\n",
    "np.random.seed(2025511)\n",
    "\n",
    "pd.set_option('display.max_columns', None)\n",
    "pd.set_option('display.precision', 3)\n",
    "\n",
    "import sys\n",
    "import os"
   ]
  },
  {
   "cell_type": "code",
   "execution_count": 3,
   "id": "24cc5bb6",
   "metadata": {},
   "outputs": [
    {
     "name": "stdout",
     "output_type": "stream",
     "text": [
      "Results for mimic_1_semi :\n",
      "\tCensoring rate: 88.49%\n",
      "\tTreatment rate: 49.92%\n",
      "\tTrue ATE: -1.2188716726261422\n",
      "\tN: 25170\n",
      "\tt_max: 42 \n",
      "Results for mimic_2_semi :\n",
      "\tCensoring rate: 81.65%\n",
      "\tTreatment rate: 49.92%\n",
      "\tTrue ATE: -1.2188716726261422\n",
      "\tN: 25170\n",
      "\tt_max: 39 \n",
      "Results for mimic_3_semi :\n",
      "\tCensoring rate: 74.10%\n",
      "\tTreatment rate: 49.92%\n",
      "\tTrue ATE: -1.2188716726261422\n",
      "\tN: 25170\n",
      "\tt_max: 41 \n",
      "Results for mimic_4_semi :\n",
      "\tCensoring rate: 66.34%\n",
      "\tTreatment rate: 49.92%\n",
      "\tTrue ATE: -1.2188716726261422\n",
      "\tN: 25170\n",
      "\tt_max: 44 \n",
      "Results for mimic_5_semi :\n",
      "\tCensoring rate: 53.35%\n",
      "\tTreatment rate: 49.92%\n",
      "\tTrue ATE: -1.2188716726261422\n",
      "\tN: 25170\n",
      "\tt_max: 42 \n"
     ]
    }
   ],
   "source": [
    "store_files = [\n",
    "    \"../semi_synthetic_data/mimic_1_semi.csv\",\n",
    "    \"../semi_synthetic_data/mimic_2_semi.csv\",\n",
    "    \"../semi_synthetic_data/mimic_3_semi.csv\",\n",
    "    \"../semi_synthetic_data/mimic_4_semi.csv\",\n",
    "    \"../semi_synthetic_data/mimic_5_semi.csv\",\n",
    "]\n",
    "\n",
    "experiment_setups = {}\n",
    "\n",
    "for path in store_files:\n",
    "    base_name = os.path.splitext(os.path.basename(path))[0]  # e.g. mimic_1_semi\n",
    "    scenario_dict = {}\n",
    "    for scenario in range(1, 2): # only one scenario per mimic data\n",
    "        try:\n",
    "            result = pd.read_csv(path)\n",
    "            if result is not None:\n",
    "                scenario_dict[f\"scenario_{scenario}\"] = result\n",
    "                print(f\"Results for {base_name} :\")\n",
    "                print(f'\\tCensoring rate: {(1 - result.event.mean()) * 100:.2f}%')\n",
    "                print(f'\\tTreatment rate: {result.W.mean() * 100:.2f}%')\n",
    "                print(f'\\tTrue ATE: {result.true_cate.mean()}')\n",
    "                print(f'\\tN: {result.shape[0]}')\n",
    "                print(f'\\tt_max: {result.observed_time.max()} ')\n",
    "        except Exception as e:\n",
    "            # Log or ignore as needed\n",
    "            continue\n",
    "    experiment_setups[base_name] = scenario_dict"
   ]
  },
  {
   "cell_type": "code",
   "execution_count": 6,
   "id": "c7235035",
   "metadata": {},
   "outputs": [
    {
     "data": {
      "text/plain": [
       "<Axes: >"
      ]
     },
     "execution_count": 6,
     "metadata": {},
     "output_type": "execute_result"
    },
    {
     "data": {
      "image/png": "[encoded data removed]",
      "text/plain": [
       "<Figure size 1000x500 with 1 Axes>"
      ]
     },
     "metadata": {},
     "output_type": "display_data"
    }
   ],
   "source": [
    "result.observed_time.hist(bins=50, figsize=(10, 5))"
   ]
  },
  {
   "cell_type": "code",
   "execution_count": 4,
   "id": "ef35a493",
   "metadata": {},
   "outputs": [
    {
     "data": {
      "text/html": [
       "<div>\n",
       "<style scoped>\n",
       "    .dataframe tbody tr th:only-of-type {\n",
       "        vertical-align: middle;\n",
       "    }\n",
       "\n",
       "    .dataframe tbody tr th {\n",
       "        vertical-align: top;\n",
       "    }\n",
       "\n",
       "    .dataframe thead th {\n",
       "        text-align: right;\n",
       "    }\n",
       "</style>\n",
       "<table border=\"1\" class=\"dataframe\">\n",
       "  <thead>\n",
       "    <tr style=\"text-align: right;\">\n",
       "      <th></th>\n",
       "      <th>idx</th>\n",
       "      <th>random_idx0</th>\n",
       "      <th>random_idx1</th>\n",
       "      <th>random_idx2</th>\n",
       "      <th>random_idx3</th>\n",
       "      <th>random_idx4</th>\n",
       "      <th>random_idx5</th>\n",
       "      <th>random_idx6</th>\n",
       "      <th>random_idx7</th>\n",
       "      <th>random_idx8</th>\n",
       "      <th>random_idx9</th>\n",
       "    </tr>\n",
       "  </thead>\n",
       "  <tbody>\n",
       "    <tr>\n",
       "      <th>0</th>\n",
       "      <td>0</td>\n",
       "      <td>20937</td>\n",
       "      <td>6193</td>\n",
       "      <td>12795</td>\n",
       "      <td>2633</td>\n",
       "      <td>10781</td>\n",
       "      <td>20395</td>\n",
       "      <td>19180</td>\n",
       "      <td>15879</td>\n",
       "      <td>24482</td>\n",
       "      <td>1759</td>\n",
       "    </tr>\n",
       "    <tr>\n",
       "      <th>1</th>\n",
       "      <td>1</td>\n",
       "      <td>11183</td>\n",
       "      <td>7859</td>\n",
       "      <td>8382</td>\n",
       "      <td>4024</td>\n",
       "      <td>22623</td>\n",
       "      <td>15150</td>\n",
       "      <td>14991</td>\n",
       "      <td>18732</td>\n",
       "      <td>10575</td>\n",
       "      <td>6021</td>\n",
       "    </tr>\n",
       "    <tr>\n",
       "      <th>2</th>\n",
       "      <td>2</td>\n",
       "      <td>4811</td>\n",
       "      <td>8956</td>\n",
       "      <td>21634</td>\n",
       "      <td>1675</td>\n",
       "      <td>2635</td>\n",
       "      <td>16721</td>\n",
       "      <td>22545</td>\n",
       "      <td>16421</td>\n",
       "      <td>19776</td>\n",
       "      <td>20892</td>\n",
       "    </tr>\n",
       "    <tr>\n",
       "      <th>3</th>\n",
       "      <td>3</td>\n",
       "      <td>2347</td>\n",
       "      <td>23657</td>\n",
       "      <td>18924</td>\n",
       "      <td>4116</td>\n",
       "      <td>11887</td>\n",
       "      <td>7341</td>\n",
       "      <td>4640</td>\n",
       "      <td>19371</td>\n",
       "      <td>20494</td>\n",
       "      <td>6615</td>\n",
       "    </tr>\n",
       "    <tr>\n",
       "      <th>4</th>\n",
       "      <td>4</td>\n",
       "      <td>2186</td>\n",
       "      <td>5604</td>\n",
       "      <td>18453</td>\n",
       "      <td>22662</td>\n",
       "      <td>23334</td>\n",
       "      <td>11003</td>\n",
       "      <td>2918</td>\n",
       "      <td>5819</td>\n",
       "      <td>6390</td>\n",
       "      <td>17837</td>\n",
       "    </tr>\n",
       "  </tbody>\n",
       "</table>\n",
       "</div>"
      ],
      "text/plain": [
       "   idx  random_idx0  random_idx1  random_idx2  random_idx3  random_idx4  \\\n",
       "0    0        20937         6193        12795         2633        10781   \n",
       "1    1        11183         7859         8382         4024        22623   \n",
       "2    2         4811         8956        21634         1675         2635   \n",
       "3    3         2347        23657        18924         4116        11887   \n",
       "4    4         2186         5604        18453        22662        23334   \n",
       "\n",
       "   random_idx5  random_idx6  random_idx7  random_idx8  random_idx9  \n",
       "0        20395        19180        15879        24482         1759  \n",
       "1        15150        14991        18732        10575         6021  \n",
       "2        16721        22545        16421        19776        20892  \n",
       "3         7341         4640        19371        20494         6615  \n",
       "4        11003         2918         5819         6390        17837  "
      ]
     },
     "execution_count": 4,
     "metadata": {},
     "output_type": "execute_result"
    }
   ],
   "source": [
    "# generate idx split\n",
    "df_split = pd.DataFrame({'idx': range(len(result))})\n",
    "for i in range(10):\n",
    "    seed = 2025511 + i\n",
    "    np.random.seed(seed)\n",
    "    df_split[f'random_idx{i}'] = np.random.permutation(df_split['idx'] )\n",
    "df_split.to_csv('idx_split_mimic_syn.csv', index=False)\n",
    "df_split.head()"
   ]
  },
  {
   "cell_type": "code",
   "execution_count": null,
   "id": "66a271bc",
   "metadata": {},
   "outputs": [],
   "source": []
  }
 ],
 "metadata": {
  "kernelspec": {
   "display_name": "causal_survival_db",
   "language": "python",
   "name": "python3"
  },
  "language_info": {
   "codemirror_mode": {
    "name": "ipython",
    "version": 3
   },
   "file_extension": ".py",
   "mimetype": "text/x-python",
   "name": "python",
   "nbconvert_exporter": "python",
   "pygments_lexer": "ipython3",
   "version": "3.9.21"
  }
 },
 "nbformat": 4,
 "nbformat_minor": 5
}
